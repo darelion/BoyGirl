{
 "cells": [
  {
   "cell_type": "code",
   "execution_count": 1,
   "metadata": {},
   "outputs": [
    {
     "name": "stderr",
     "output_type": "stream",
     "text": [
      "Using TensorFlow backend.\n"
     ]
    }
   ],
   "source": [
    "import numpy as np\n",
    "from keras import layers\n",
    "from keras.layers import Input, Dense, Activation, ZeroPadding2D, BatchNormalization, Flatten, Conv2D\n",
    "from keras.layers import AveragePooling2D, MaxPooling2D, Dropout, GlobalMaxPooling2D, GlobalAveragePooling2D\n",
    "from keras.models import Model\n",
    "from keras.preprocessing import image\n",
    "import keras.backend as K\n",
    "import keras\n",
    "from matplotlib.pyplot import imshow\n",
    "import matplotlib.pyplot\n",
    "import scipy\n",
    "from PIL import Image\n",
    "from scipy import ndimage\n",
    "import matplotlib.pyplot as plt\n",
    "from keras.applications.vgg19 import VGG19\n",
    "\n",
    "%matplotlib inline\n",
    "K.set_image_data_format('channels_last')"
   ]
  },
  {
   "cell_type": "code",
   "execution_count": 2,
   "metadata": {},
   "outputs": [],
   "source": [
    "#Loading some Data from folder \n",
    "def load_girl_dataset(start, final):\n",
    "    data = []\n",
    "    for i in range(start,final):\n",
    "        image = str(i)+\".jpg\"\n",
    "        fname =\"D:/BoyGirlUNK/girl/\"+image\n",
    "        img1 = Image.open(fname).convert('RGB')\n",
    "        img2 = scipy.misc.imresize(img1, size=(64,64))\n",
    "        data.append(img2)\n",
    "    return data\n",
    "\n",
    "def load_boy_dataset(start,final):\n",
    "    data = []\n",
    "    for i in range(start,final):\n",
    "        image = str(i)+\".jpg\"\n",
    "        fname =\"D:/BoyGirlUNK/boy/\"+image\n",
    "        img1 = Image.open(fname).convert('RGB')\n",
    "        img2 = scipy.misc.imresize(img1, size=(64,64))\n",
    "        data.append(img2)\n",
    "    return data"
   ]
  },
  {
   "cell_type": "code",
   "execution_count": 3,
   "metadata": {},
   "outputs": [
    {
     "name": "stderr",
     "output_type": "stream",
     "text": [
      "C:\\Users\\Admin\\Anaconda3\\Anaconda\\lib\\site-packages\\ipykernel_launcher.py:8: DeprecationWarning: `imresize` is deprecated!\n",
      "`imresize` is deprecated in SciPy 1.0.0, and will be removed in 1.2.0.\n",
      "Use ``skimage.transform.resize`` instead.\n",
      "  \n",
      "C:\\Users\\Admin\\Anaconda3\\Anaconda\\lib\\site-packages\\ipykernel_launcher.py:18: DeprecationWarning: `imresize` is deprecated!\n",
      "`imresize` is deprecated in SciPy 1.0.0, and will be removed in 1.2.0.\n",
      "Use ``skimage.transform.resize`` instead.\n"
     ]
    }
   ],
   "source": [
    "#loading the datasets needed\n",
    "girl_train = load_girl_dataset(1,21)\n",
    "girl_test= load_girl_dataset(21,26)\n",
    "boy_train = load_boy_dataset(26,46)\n",
    "boy_test = load_boy_dataset(46,51)"
   ]
  },
  {
   "cell_type": "code",
   "execution_count": 4,
   "metadata": {},
   "outputs": [
    {
     "name": "stdout",
     "output_type": "stream",
     "text": [
      "(20, 64, 64, 3)\n",
      "(5, 64, 64, 3)\n",
      "(20, 64, 64, 3)\n",
      "(5, 64, 64, 3)\n"
     ]
    }
   ],
   "source": [
    "#Converting All part to Array \n",
    "girl_train=np.asarray(girl_train)\n",
    "girl_test=np.asarray(girl_test)\n",
    "boy_train=np.asarray(boy_train)\n",
    "boy_test=np.asarray(boy_test)\n",
    "\n",
    "#Checking \n",
    "print(girl_train.shape) #20 Training data,64x64 pixel,RGB\n",
    "print(girl_test.shape) #5 test data,64x64 pixel,RGB\n",
    "print(boy_train.shape) \n",
    "print(boy_test.shape)"
   ]
  },
  {
   "cell_type": "code",
   "execution_count": 5,
   "metadata": {},
   "outputs": [],
   "source": [
    "#salt_pepper Noise for Image Augmentation\n",
    "def add_salt_pepper_noise(X_imgs):\n",
    "    # Need to produce a copy as to not modify the original image\n",
    "    X_imgs_copy = X_imgs.copy()\n",
    "    row, col, _ = X_imgs_copy[0].shape\n",
    "    salt_vs_pepper = 0.2\n",
    "    amount = 0.004\n",
    "    num_salt = np.ceil(amount * X_imgs_copy[0].size * salt_vs_pepper)\n",
    "    num_pepper = np.ceil(amount * X_imgs_copy[0].size * (1.0 - salt_vs_pepper))\n",
    "    \n",
    "    for X_img in X_imgs_copy:\n",
    "        # Add Salt noise\n",
    "        coords = [np.random.randint(0, i - 1, int(num_salt)) for i in X_img.shape]\n",
    "        X_img[coords[0], coords[1], :] = 1\n",
    "\n",
    "        # Add Pepper noise\n",
    "        coords = [np.random.randint(0, i - 1, int(num_pepper)) for i in X_img.shape]\n",
    "        X_img[coords[0], coords[1], :] = 0\n",
    "    return X_imgs_copy\n",
    "  \n",
    "#salt_pepper_noise_imgs = add_salt_pepper_noise(X_imgs)"
   ]
  },
  {
   "cell_type": "code",
   "execution_count": 6,
   "metadata": {},
   "outputs": [
    {
     "name": "stdout",
     "output_type": "stream",
     "text": [
      "(40, 64, 64, 3)\n"
     ]
    }
   ],
   "source": [
    "#Girl\n",
    "New_data_girl_train=add_salt_pepper_noise(girl_train)\n",
    "#Boy\n",
    "New_data_boy_train=add_salt_pepper_noise(boy_train)\n",
    "#Stacking into array \n",
    "girl_train=np.vstack((girl_train,New_data_girl_train))\n",
    "\n",
    "boy_train=np.vstack((boy_train,New_data_boy_train))\n",
    "\n",
    "print(girl_train.shape)"
   ]
  },
  {
   "cell_type": "code",
   "execution_count": 7,
   "metadata": {},
   "outputs": [],
   "source": [
    "#ADD NEW DATA AUGMENTATION HERE"
   ]
  },
  {
   "cell_type": "code",
   "execution_count": 8,
   "metadata": {},
   "outputs": [
    {
     "name": "stdout",
     "output_type": "stream",
     "text": [
      "(80, 64, 64, 3)\n"
     ]
    }
   ],
   "source": [
    "#girl\n",
    "New_data_girl_train=np.fliplr(girl_train)\n",
    "#boy\n",
    "New_data_boy_train=np.fliplr(boy_train)\n",
    "\n",
    "girl_train=np.vstack((girl_train,New_data_girl_train))\n",
    "boy_train=np.vstack((boy_train,New_data_boy_train))\n",
    "\n",
    "print(girl_train.shape)"
   ]
  },
  {
   "cell_type": "code",
   "execution_count": 9,
   "metadata": {},
   "outputs": [
    {
     "name": "stdout",
     "output_type": "stream",
     "text": [
      "(160, 64, 64, 3)\n",
      "(10, 64, 64, 3)\n"
     ]
    }
   ],
   "source": [
    "#Stacking X \n",
    "X_train=np.vstack((girl_train,boy_train)) \n",
    "X_test=np.vstack((girl_test,boy_test))\n",
    "print(X_train.shape) #40 20 girl+20 boys stack vertically\n",
    "print(X_test.shape)"
   ]
  },
  {
   "cell_type": "code",
   "execution_count": 10,
   "metadata": {},
   "outputs": [],
   "source": [
    "def convert_to_one_hot(Y, C):\n",
    "    Y = np.eye(C)[Y.reshape(-1)].T\n",
    "    return Y"
   ]
  },
  {
   "cell_type": "code",
   "execution_count": 11,
   "metadata": {},
   "outputs": [
    {
     "name": "stdout",
     "output_type": "stream",
     "text": [
      "(80, 1)\n",
      "(80, 1)\n",
      "(5, 1)\n",
      "(5, 1)\n",
      "(10, 2)\n",
      "(160, 2)\n"
     ]
    }
   ],
   "source": [
    "#Labelling and making answer girl Y=1 , boy Y=0\n",
    "\n",
    "#Labelling train set\n",
    "Y_train_girls=np.ones((girl_train.shape[0],1),dtype=int)\n",
    "Y_train_boys=np.zeros((boy_train.shape[0],1),dtype=int)\n",
    "\n",
    "#Labelling Test set\n",
    "Y_test_girls=np.ones((girl_test.shape[0],1),dtype=int)\n",
    "Y_test_boys=np.zeros((boy_test.shape[0],1),dtype=int)\n",
    "\n",
    "print(Y_train_girls.shape)\n",
    "print(Y_train_boys.shape)#Train 20 Boys,20 Girls\n",
    "print(Y_test_girls.shape)\n",
    "print(Y_test_boys.shape)#Test 5 Boys,5 Girls\n",
    "\n",
    "#Stack Jawaban\n",
    "Y_test=np.vstack((Y_test_girls,Y_test_boys)) #Gara2 diatas distack girl dulu baru boy ini ngikutin\n",
    "Y_train=np.vstack((Y_train_girls,Y_train_boys))\n",
    "\n",
    "#Convert Y ke 1 hot\n",
    "Y_train = convert_to_one_hot(Y_train, 2).T\n",
    "Y_test = convert_to_one_hot(Y_test,2).T\n",
    "\n",
    "print(Y_test.shape)\n",
    "print(Y_train.shape)"
   ]
  },
  {
   "cell_type": "code",
   "execution_count": 12,
   "metadata": {},
   "outputs": [
    {
     "name": "stdout",
     "output_type": "stream",
     "text": [
      "\n",
      "y= [1. 0.]\n"
     ]
    },
    {
     "data": {
      "image/png": "[encoded data removed]",
      "text/plain": [
       "<Figure size 432x288 with 1 Axes>"
      ]
     },
     "metadata": {
      "needs_background": "light"
     },
     "output_type": "display_data"
    }
   ],
   "source": [
    "# Example of a picture\n",
    "index =140\n",
    "plt.imshow(X_train[index])\n",
    "print(\"\\ny= \"+str(Y_train[index]))"
   ]
  },
  {
   "cell_type": "code",
   "execution_count": 13,
   "metadata": {},
   "outputs": [],
   "source": [
    "#Normalize input\n",
    "#Supaya inputnya 0-1\n",
    "X_train = X_train / 255\n",
    "X_test = X_test / 255"
   ]
  },
  {
   "cell_type": "code",
   "execution_count": 14,
   "metadata": {},
   "outputs": [],
   "source": [
    "def boygirlModel(input_shape):\n",
    "    #define the input image\n",
    "    X_input = Input(input_shape)\n",
    "    #pad X_input with zeroes\n",
    "    VGG19(weights='imagenet')\n",
    "    X = ZeroPadding2D((3,3))(X_input)\n",
    "    #layer group 1 32*32*32\n",
    "    #CONV->BN->RELU block applied to X\n",
    "    X = Conv2D(32, (7,7), strides = (1,1), name = 'conv1')(X)\n",
    "    X = BatchNormalization(axis = 3, name= 'bn1')(X)\n",
    "    X = Activation('relu')(X)\n",
    "    X = MaxPooling2D((2,2), name = 'max_pool1')(X)\n",
    "    #layer group 2 16*16*64\n",
    "    #CONV->BN->RELU block applied to X\n",
    "    X = ZeroPadding2D((2,2))(X)\n",
    "    X = Conv2D(64, (5,5), strides = (1,1), name = 'conv2')(X)\n",
    "    X = BatchNormalization(axis = 3, name = 'bn2')(X)\n",
    "    X = Activation('relu')(X)\n",
    "    X = MaxPooling2D((2,2), name = 'max_pool2')(X)\n",
    "    #layer group 3 8*8*128\n",
    "    #CONV->BN->RELU block applied to X\n",
    "    X = ZeroPadding2D((1,1))(X)\n",
    "    X = Conv2D(128, (3,3), strides = (1,1), name = 'conv3')(X)\n",
    "    X = BatchNormalization(axis = 3, name = 'bn3')(X)\n",
    "    X = Activation('relu')(X)\n",
    "    X = MaxPooling2D((2,2), name = 'max_pool3')(X)\n",
    "    #layer group 4 8*8*64\n",
    "    #CONV->BN->RELU block applied to X\n",
    "    X = Conv2D(64, (1,1), strides = (1,1), name = 'conv4')(X)\n",
    "    X = BatchNormalization(axis = 3, name = 'bn4')(X)\n",
    "    X = Activation('relu')(X)\n",
    "    #layer group 5 4*4*32\n",
    "    #CONV->BN->RELU block applied to X\n",
    "    X = ZeroPadding2D((1,1))(X)\n",
    "    X = Conv2D(32,(3,3), strides = (1,1), name= 'conv5')(X)\n",
    "    X = BatchNormalization(axis = 3, name = 'bn5')(X)\n",
    "    X = Activation('relu')(X)\n",
    "    X = MaxPooling2D((2,2), name = 'max_pool5')(X)\n",
    "    #Flatten X + Fully connected layers\n",
    "    X = Flatten()(X)\n",
    "    X = Dense(128, activation='sigmoid', name = 'fc1')(X)\n",
    "    X = Dense(32, activation='sigmoid', name = 'fc2')(X)\n",
    "    X = Dense(2, activation= 'softmax', name = 'fc3')(X)\n",
    "    #create model\n",
    "    model = Model(inputs = X_input, outputs = X, name = 'boygirlModel')\n",
    "    \n",
    "    return model\n"
   ]
  },
  {
   "cell_type": "code",
   "execution_count": null,
   "metadata": {},
   "outputs": [],
   "source": [
    "boygirlModel = boygirlModel((64,64,3))"
   ]
  },
  {
   "cell_type": "code",
   "execution_count": null,
   "metadata": {},
   "outputs": [],
   "source": [
    "boygirlModel.compile(optimizer = 'adam', loss = 'categorical_crossentropy', metrics = ['accuracy'])"
   ]
  },
  {
   "cell_type": "code",
   "execution_count": null,
   "metadata": {},
   "outputs": [],
   "source": [
    "boygirlModel.fit(x = X_train, y = Y_train, epochs = 20, batch_size = 16)"
   ]
  },
  {
   "cell_type": "code",
   "execution_count": null,
   "metadata": {},
   "outputs": [],
   "source": [
    "preds = boygirlModel.evaluate(x=X_test,y=Y_test)\n",
    "\n",
    "print('accuracy = '+str(preds[1]*100))\n",
    "print('loss = '+str(preds[0]))\n",
    "\n",
    "print(preds[1])"
   ]
  },
  {
   "cell_type": "code",
   "execution_count": null,
   "metadata": {},
   "outputs": [],
   "source": [
    "preds = boygirlModel.evaluate(x=X_train,y=Y_train)\n",
    "\n",
    "print('accuracy = '+str(preds[1]*100))\n",
    "print('loss = '+str(preds[0]))\n",
    "print(preds)"
   ]
  },
  {
   "cell_type": "code",
   "execution_count": null,
   "metadata": {},
   "outputs": [],
   "source": [
    "boygirlModel.summary()"
   ]
  },
  {
   "cell_type": "code",
   "execution_count": null,
   "metadata": {},
   "outputs": [],
   "source": [
    "#test With ur own \n",
    "from keras.preprocessing import image\n",
    "from keras.applications.imagenet_utils import preprocess_input\n",
    "\n",
    "#Preprocces Image\n",
    "img_path=\"C:/Users/Admin/Desktop/kel.jpg\"\n",
    "img=image.load_img(img_path,target_size=(64,64))\n",
    "imshow(img)\n",
    "\n",
    "# x=image.img_to_array(img)\n",
    "# x=np.expand_dims(x,axis = 0)\n",
    "# x=preprocess_input(x)\n",
    "\n",
    "# #show predictions\n",
    "# print(\"Your prediction=\" + catdogModel.predict(x))\n",
    "\n",
    "# predicting images\n",
    "x = image.img_to_array(img)\n",
    "x = np.expand_dims(x, axis=0)\n",
    "\n",
    "images = np.vstack([x])\n",
    "boygirlModel.predict(images)"
   ]
  }
 ],
 "metadata": {
  "kernelspec": {
   "display_name": "Python 3",
   "language": "python",
   "name": "python3"
  },
  "language_info": {
   "codemirror_mode": {
    "name": "ipython",
    "version": 3
   },
   "file_extension": ".py",
   "mimetype": "text/x-python",
   "name": "python",
   "nbconvert_exporter": "python",
   "pygments_lexer": "ipython3",
   "version": "3.6.6"
  }
 },
 "nbformat": 4,
 "nbformat_minor": 2
}
