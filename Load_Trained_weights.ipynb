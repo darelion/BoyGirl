{
 "cells": [
  {
   "cell_type": "code",
   "execution_count": 5,
   "metadata": {
    "scrolled": true
   },
   "outputs": [],
   "source": [
    "import numpy as np\n",
    "from keras import layers\n",
    "from keras.layers import Input, Dense, Activation, ZeroPadding2D, BatchNormalization, Flatten, Conv2D\n",
    "from keras.layers import AveragePooling2D, MaxPooling2D, Dropout, GlobalMaxPooling2D, GlobalAveragePooling2D\n",
    "from keras.models import Model\n",
    "from keras.preprocessing import image\n",
    "import keras.backend as K\n",
    "import keras\n",
    "from matplotlib.pyplot import imshow\n",
    "import matplotlib.pyplot\n",
    "import scipy\n",
    "from PIL import Image\n",
    "from scipy import ndimage\n",
    "\n",
    "%matplotlib inline\n",
    "K.set_image_data_format('channels_last')"
   ]
  },
  {
   "cell_type": "code",
   "execution_count": 6,
   "metadata": {},
   "outputs": [],
   "source": [
    "#Lodaing Model (Weights+Architecture so it can be instanlly useful)\n",
    "from keras.models import load_model\n",
    "catdogModel =load_model(r'C:\\Users\\Admin\\Cat-Dog-Classifier\\saved_catdogmodel.h5')"
   ]
  },
  {
   "cell_type": "code",
   "execution_count": 7,
   "metadata": {},
   "outputs": [
    {
     "name": "stdout",
     "output_type": "stream",
     "text": [
      "None\n"
     ]
    }
   ],
   "source": [
    "from keras.models import Model\n",
    "cat_weights=catdogModel.load_weights(r'C:\\Users\\Admin\\Cat-Dog-Classifier\\saved_catdogweights.h5')  \n",
    "print(cat_weights)"
   ]
  },
  {
   "cell_type": "code",
   "execution_count": 9,
   "metadata": {},
   "outputs": [
    {
     "name": "stdout",
     "output_type": "stream",
     "text": [
      "(1, 64, 64, 3)\n",
      "[[0.01400586 0.5493042 ]]\n"
     ]
    },
    {
     "data": {
      "image/png": "[encoded data removed]",
      "text/plain": [
       "<Figure size 432x288 with 1 Axes>"
      ]
     },
     "metadata": {
      "needs_background": "light"
     },
     "output_type": "display_data"
    }
   ],
   "source": [
    "#test With ur own \n",
    "from keras.preprocessing import image\n",
    "from keras.applications.imagenet_utils import preprocess_input\n",
    "\n",
    "#Preprocces Image\n",
    "img_path=\"C:/Users/Admin/Desktop/kucing.jpg\"\n",
    "img=image.load_img(img_path,target_size=(64,64))\n",
    "imshow(img)\n",
    "\n",
    "# x=image.img_to_array(img)\n",
    "# x=np.expand_dims(x,axis = 0)\n",
    "# x=preprocess_input(x)\n",
    "\n",
    "# #show predictions\n",
    "# print(\"Your prediction=\" + catdogModel.predict(x))\n",
    "\n",
    "# predicting images\n",
    "x = image.img_to_array(img)\n",
    "x = np.expand_dims(x, axis=0)\n",
    "\n",
    "images = np.vstack([x])\n",
    "print(images.shape)\n",
    "Preds=catdogModel.predict(images)\n",
    "print(Preds)"
   ]
  },
  {
   "cell_type": "code",
   "execution_count": null,
   "metadata": {},
   "outputs": [],
   "source": []
  }
 ],
 "metadata": {
  "kernelspec": {
   "display_name": "Python 3",
   "language": "python",
   "name": "python3"
  },
  "language_info": {
   "codemirror_mode": {
    "name": "ipython",
    "version": 3
   },
   "file_extension": ".py",
   "mimetype": "text/x-python",
   "name": "python",
   "nbconvert_exporter": "python",
   "pygments_lexer": "ipython3",
   "version": "3.6.6"
  }
 },
 "nbformat": 4,
 "nbformat_minor": 2
}
